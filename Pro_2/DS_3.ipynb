{
 "cells": [
  {
   "cell_type": "code",
   "execution_count": null,
   "metadata": {
    "id": "1O_NLDz8YJQ0"
   },
   "outputs": [],
   "source": [
    "import numpy as np\n",
    "import matplotlib.pyplot as plt\n"
   ]
  },
  {
   "cell_type": "code",
   "execution_count": null,
   "metadata": {
    "id": "LbVPFXfDYRtY"
   },
   "outputs": [],
   "source": [
    "data = np.loadtxt(\"datos_recta.dat\")\n",
    "x_obs = data[:,0]\n",
    "y_obs = data[:,1]\n",
    "sigma_obs = data[:,2]"
   ]
  },
  {
   "cell_type": "code",
   "execution_count": null,
   "metadata": {
    "colab": {
     "base_uri": "https://localhost:8080/",
     "height": 282
    },
    "id": "4jJhnAULaQzp",
    "outputId": "095b1207-a2ae-4350-fb4a-638820165f03"
   },
   "outputs": [
    {
     "data": {
      "text/plain": [
       "<ErrorbarContainer object of 3 artists>"
      ]
     },
     "execution_count": 5,
     "metadata": {},
     "output_type": "execute_result"
    },
    {
     "data": {
      "image/png": "[encoded data removed]",
      "text/plain": [
       "<Figure size 432x288 with 1 Axes>"
      ]
     },
     "metadata": {
      "needs_background": "light"
     },
     "output_type": "display_data"
    }
   ],
   "source": [
    "plt.errorbar(data[:,0], data[:,1], data[:,2], fmt=\"o\")#la pridata[:,0]mera columna es x la segunda y y la tercera son errores."
   ]
  },
  {
   "cell_type": "markdown",
   "metadata": {
    "id": "wRy0uuSybMZH"
   },
   "source": [
    "Deseo encontar la probabilidad de los parametros dado las observaciones\n",
    "\n",
    "$P(parametros|obs)\\alpha P(obs|parametros)*P(parametros)$ donde se asumira un prior constante y se absorbe en la consante de normalizacion.\n",
    "\n",
    "$P(m,b |obs )\\alpha P(obs | m,b)$"
   ]
  },
  {
   "cell_type": "code",
   "execution_count": null,
   "metadata": {
    "id": "9FQPn5Paa1I0"
   },
   "outputs": [],
   "source": [
    "def modelo(x_obs,m,b):\n",
    "  return (x_obs*m)+b\n",
    "\n",
    "def likelihood(x_obs, y_obs, sigma_obs,m,b):\n",
    "  y_modelo=modelo(x_obs,m,b)\n",
    "  x = np.sum((y_modelo-y_obs)/sigma_obs)\n",
    "  return  np.exp(-0.5*x**2) # se omite porque se usara MCMC y los cocientes cancelan las constantes\n",
    "\n",
    "\n"
   ]
  },
  {
   "cell_type": "code",
   "execution_count": null,
   "metadata": {
    "id": "LY5l9uHuc3Db"
   },
   "outputs": [],
   "source": [
    "n_iter = 100\n",
    "m_walk = np.zeros(n_iter)\n",
    "b_walk = np.zeros(n_iter)\n",
    "for i in range(1,n_iter):\n",
    "  m_prime = np.random.normal(m_walk[i-1],0.1)\n",
    "  b_prime = np.random.normal(b_walk[i-1],0.1)\n",
    "\n",
    "\n",
    "l_now =likelihood(x_obs, y_obs, sigma_obs, m_walk[i-1], b_walk[i-1])\n",
    "l_next= likelihood(x_obs, y_obs, sigma_obs, m_prime, b_prime)\n"
   ]
  },
  {
   "cell_type": "markdown",
   "metadata": {
    "id": "rbqpzTkIedg_"
   },
   "source": [
    "Lo anterior tiene problemas numericos ya que l_now, l_next dan cero y al definir el gamma se usa la division entre ellos y pailas para eso se usa la log de la likelihood.\n"
   ]
  },
  {
   "cell_type": "code",
   "execution_count": null,
   "metadata": {
    "id": "fb2buVbvez0I"
   },
   "outputs": [],
   "source": [
    "def loglikelihood(x_obs, y_obs, sigma_obs,m,b):\n",
    "  y_modelo=modelo(x_obs,m,b)\n",
    "  x = np.sum((y_modelo-y_obs)**2/sigma_obs**2)\n",
    "  return  -0.5*x # se omite porque se usara MCMC y los cocientes cancelan las constantes\n"
   ]
  },
  {
   "cell_type": "code",
   "execution_count": null,
   "metadata": {
    "colab": {
     "base_uri": "https://localhost:8080/"
    },
    "id": "jrdMiEX_e5H5",
    "outputId": "669c1a40-d0ed-4507-9c7d-5a7f41fb2229"
   },
   "outputs": [
    {
     "name": "stderr",
     "output_type": "stream",
     "text": [
      "/usr/local/lib/python3.7/dist-packages/ipykernel_launcher.py:10: RuntimeWarning: overflow encountered in exp\n",
      "  # Remove the CWD from sys.path while we load stuff.\n"
     ]
    }
   ],
   "source": [
    "n_iter = 10000\n",
    "m_walk = np.zeros(n_iter)\n",
    "b_walk = np.zeros(n_iter)\n",
    "for i in range(1,n_iter): #aca se hace explicito porque solo son dos paremtros en el sigueinte ejemplo son 5 dimensiones\n",
    "  m_prime = np.random.normal(m_walk[i-1],0.05)\n",
    "  b_prime = np.random.normal(b_walk[i-1],0.05)\n",
    "\n",
    "  l_now =loglikelihood(x_obs, y_obs, sigma_obs, m_walk[i-1], b_walk[i-1])\n",
    "  l_next= loglikelihood(x_obs, y_obs, sigma_obs, m_prime, b_prime)\n",
    "  gamma = np.min([1.0,np.exp(l_next-l_now)])\n",
    "  #print(gamma)  #cuando gamma es 1 se rechaza salto, 0 acepta el paso\n",
    "  alpha = np.random.random()\n",
    "  if alpha<gamma:\n",
    "    m_walk[i]= m_prime\n",
    "    b_walk[i]= b_prime\n",
    "  else:\n",
    "    m_walk[i]= m_walk[i-1]\n",
    "    b_walk[i]= b_walk[i-1]"
   ]
  },
  {
   "cell_type": "code",
   "execution_count": null,
   "metadata": {
    "colab": {
     "base_uri": "https://localhost:8080/",
     "height": 282
    },
    "id": "-oh-q3A7fcKd",
    "outputId": "710d53a2-8112-47cc-bfc9-f8476b60cd27"
   },
   "outputs": [
    {
     "data": {
      "text/plain": [
       "<matplotlib.collections.PathCollection at 0x7f83c8d4a210>"
      ]
     },
     "execution_count": 45,
     "metadata": {},
     "output_type": "execute_result"
    },
    {
     "data": {
      "image/png": "[encoded data removed]",
      "text/plain": [
       "<Figure size 432x288 with 1 Axes>"
      ]
     },
     "metadata": {
      "needs_background": "light"
     },
     "output_type": "display_data"
    }
   ],
   "source": [
    "plt.scatter(m_walk,b_walk)"
   ]
  },
  {
   "cell_type": "code",
   "execution_count": null,
   "metadata": {
    "colab": {
     "base_uri": "https://localhost:8080/",
     "height": 265
    },
    "id": "-wlLVO0dhZJH",
    "outputId": "16486083-517e-4586-9e89-7f2373b451b2"
   },
   "outputs": [
    {
     "data": {
      "image/png": "[encoded data removed]",
      "text/plain": [
       "<Figure size 432x288 with 1 Axes>"
      ]
     },
     "metadata": {
      "needs_background": "light"
     },
     "output_type": "display_data"
    }
   ],
   "source": [
    "_ = plt.hist(m_walk)"
   ]
  },
  {
   "cell_type": "code",
   "execution_count": null,
   "metadata": {
    "colab": {
     "base_uri": "https://localhost:8080/",
     "height": 265
    },
    "id": "SMFgQmKIhnsZ",
    "outputId": "3dc70f6c-41ff-4c22-b8d3-a981ce8fd562"
   },
   "outputs": [
    {
     "data": {
      "image/png": "[encoded data removed]",
      "text/plain": [
       "<Figure size 432x288 with 1 Axes>"
      ]
     },
     "metadata": {
      "needs_background": "light"
     },
     "output_type": "display_data"
    }
   ],
   "source": [
    "_=plt.hist(b_walk)"
   ]
  },
  {
   "cell_type": "code",
   "execution_count": null,
   "metadata": {
    "colab": {
     "base_uri": "https://localhost:8080/"
    },
    "id": "jWWbXauLhymy",
    "outputId": "dd63a2a3-cf45-4e59-c16c-0ffe8dfe0fb4"
   },
   "outputs": [
    {
     "name": "stdout",
     "output_type": "stream",
     "text": [
      "0.5742890145412457 0.019917662087683922\n"
     ]
    }
   ],
   "source": [
    "m_best= np.mean(m_walk)\n",
    "m_error=np.std(m_walk)\n",
    "print(m_best,m_error)"
   ]
  },
  {
   "cell_type": "code",
   "execution_count": null,
   "metadata": {
    "colab": {
     "base_uri": "https://localhost:8080/"
    },
    "id": "cqUPXPbSissB",
    "outputId": "38011b77-544a-42a0-a9ae-717a9c4005df"
   },
   "outputs": [
    {
     "name": "stdout",
     "output_type": "stream",
     "text": [
      "0.3036752216355255 0.012708815362112975\n"
     ]
    }
   ],
   "source": [
    "b_best = np.mean(b_walk)\n",
    "b_error=np.std(b_walk)\n",
    "print(b_best,b_error)"
   ]
  },
  {
   "cell_type": "code",
   "execution_count": null,
   "metadata": {
    "id": "g5VzOSNbi8sH"
   },
   "outputs": [],
   "source": [
    "x_teorico = np.linspace(x_obs.min(),x_obs.max(),100)\n",
    "y_teorico = modelo (x_teorico,m_best,b_best)"
   ]
  },
  {
   "cell_type": "code",
   "execution_count": null,
   "metadata": {
    "colab": {
     "base_uri": "https://localhost:8080/",
     "height": 282
    },
    "id": "r0EVNRCCkRhN",
    "outputId": "d00cbcf3-7fdb-4cff-d7b0-fd9e34a31989"
   },
   "outputs": [
    {
     "data": {
      "text/plain": [
       "<ErrorbarContainer object of 3 artists>"
      ]
     },
     "execution_count": 53,
     "metadata": {},
     "output_type": "execute_result"
    },
    {
     "data": {
      "image/png": "[encoded data removed]",
      "text/plain": [
       "<Figure size 432x288 with 1 Axes>"
      ]
     },
     "metadata": {
      "needs_background": "light"
     },
     "output_type": "display_data"
    }
   ],
   "source": [
    "plt.plot(x_teorico,y_teorico)\n",
    "plt.errorbar(data[:,0], data[:,1], data[:,2], fmt=\"o\")"
   ]
  },
  {
   "cell_type": "code",
   "execution_count": null,
   "metadata": {
    "id": "IgOmyrs-kVC8"
   },
   "outputs": [],
   "source": [
    "#################################################################################\n",
    "\n",
    "data = np.loadtxt(\"notas_andes.dat\")"
   ]
  },
  {
   "cell_type": "code",
   "execution_count": null,
   "metadata": {
    "colab": {
     "base_uri": "https://localhost:8080/",
     "height": 282
    },
    "id": "B2Dm1ZfHlguR",
    "outputId": "8f378561-18e1-40b9-a14b-a4950c2b3efc"
   },
   "outputs": [
    {
     "data": {
      "text/plain": [
       "<matplotlib.collections.PathCollection at 0x7f83c9427a50>"
      ]
     },
     "execution_count": 56,
     "metadata": {},
     "output_type": "execute_result"
    },
    {
     "data": {
      "image/png": "[encoded data removed]",
      "text/plain": [
       "<Figure size 432x288 with 1 Axes>"
      ]
     },
     "metadata": {
      "needs_background": "light"
     },
     "output_type": "display_data"
    }
   ],
   "source": [
    "plt.scatter(data[:,0],data[:,4])"
   ]
  },
  {
   "cell_type": "code",
   "execution_count": null,
   "metadata": {
    "colab": {
     "base_uri": "https://localhost:8080/",
     "height": 282
    },
    "id": "-iIwuDCAlplv",
    "outputId": "2672feaf-f29a-4733-c0d7-284f9c3f7cd2"
   },
   "outputs": [
    {
     "data": {
      "text/plain": [
       "<matplotlib.collections.PathCollection at 0x7f83c9427d90>"
      ]
     },
     "execution_count": 57,
     "metadata": {},
     "output_type": "execute_result"
    },
    {
     "data": {
      "image/png": "[encoded data removed]",
      "text/plain": [
       "<Figure size 432x288 with 1 Axes>"
      ]
     },
     "metadata": {
      "needs_background": "light"
     },
     "output_type": "display_data"
    }
   ],
   "source": [
    "plt.scatter(data[:,1],data[:,4]) # no hay tanta correlacion"
   ]
  },
  {
   "cell_type": "code",
   "execution_count": null,
   "metadata": {
    "colab": {
     "base_uri": "https://localhost:8080/",
     "height": 282
    },
    "id": "Q1Mg4i3ylwx_",
    "outputId": "884e6ff5-15fd-4ba6-fc48-b32f82606d11"
   },
   "outputs": [
    {
     "data": {
      "text/plain": [
       "<matplotlib.collections.PathCollection at 0x7f83c90ffdd0>"
      ]
     },
     "execution_count": 58,
     "metadata": {},
     "output_type": "execute_result"
    },
    {
     "data": {
      "image/png": "[encoded data removed]",
      "text/plain": [
       "<Figure size 432x288 with 1 Axes>"
      ]
     },
     "metadata": {
      "needs_background": "light"
     },
     "output_type": "display_data"
    }
   ],
   "source": [
    "plt.scatter(data[:,2],data[:,4])"
   ]
  },
  {
   "cell_type": "code",
   "execution_count": null,
   "metadata": {
    "id": "8OxQ49Qsl2Jw"
   },
   "outputs": [],
   "source": [
    "def model(x,betas):\n",
    "  y = betas[0]\n",
    "  for i in range(1,len(betas)):\n",
    "    y =y+betas[i]*x[i-1]\n",
    "  return y"
   ]
  },
  {
   "cell_type": "code",
   "execution_count": null,
   "metadata": {
    "id": "EmYjY7u6mQJK"
   },
   "outputs": [],
   "source": [
    "#def loglike(x_obs,y_obs,sigma_y_obs,betas): # no se porque no funciona\n",
    "#  y_modelo = model(x_obs,betas)\n",
    "#  x = np.sum((y_modelo-y_obs)**2/sigma_y_obs**2)\n",
    "#  return  -0.5*x \n"
   ]
  },
  {
   "cell_type": "code",
   "execution_count": null,
   "metadata": {
    "id": "XVwPfLX68YC2"
   },
   "outputs": [],
   "source": [
    "def loglike(x_obs,y_obs,sigma_y_obs,betas):\n",
    "  n_obs=len(y_obs)\n",
    "  l=0\n",
    "  for i in range(n_obs):\n",
    "    l=l-0.5*(y_obs[i]-model(x_obs[i,:],betas))**2/sigma_y_obs[i]**2\n",
    "  return l"
   ]
  },
  {
   "cell_type": "code",
   "execution_count": null,
   "metadata": {
    "colab": {
     "base_uri": "https://localhost:8080/"
    },
    "id": "dXSUtif-3boY",
    "outputId": "a00916e5-68e7-498d-a508-c3b47f2b45a1"
   },
   "outputs": [
    {
     "name": "stderr",
     "output_type": "stream",
     "text": [
      "/usr/local/lib/python3.7/dist-packages/ipykernel_launcher.py:12: RuntimeWarning: overflow encountered in exp\n",
      "  if sys.path[0] == '':\n"
     ]
    }
   ],
   "source": [
    "x_obs=data[:,:4]\n",
    "y_obs=data[:,4]\n",
    "sigma_y_obs=np.ones(len(y_obs))*0.1 #las notas usualmente tienen redondeos\n",
    "\n",
    "n_iteraciones=10000\n",
    "betas=np.zeros([n_iteraciones,5]) #5 parametros para cada iteracion\n",
    "for i in range (1,n_iteraciones):\n",
    "  betas_now = betas[i-1,:]\n",
    "  betas_next = betas_now + np.random.normal(scale=0.01, size=5)\n",
    "  loglike_now = loglike(x_obs,y_obs,sigma_y_obs,betas_now)\n",
    "  loglike_next = loglike(x_obs,y_obs,sigma_y_obs,betas_next)\n",
    "  gamma = np.min([np.exp(loglike_next-loglike_now),1.0])\n",
    "  alpha=np.random.random()\n",
    "  if alpha<gamma:\n",
    "    betas[i,:]=betas_next\n",
    "  else:\n",
    "    betas[i,:]= betas_now\n"
   ]
  },
  {
   "cell_type": "code",
   "execution_count": null,
   "metadata": {
    "colab": {
     "base_uri": "https://localhost:8080/",
     "height": 265
    },
    "id": "T0CEZj5L55ww",
    "outputId": "5145bfd9-4857-40f1-f2ed-de74510ae10c"
   },
   "outputs": [
    {
     "data": {
      "image/png": "[encoded data removed]",
      "text/plain": [
       "<Figure size 432x288 with 1 Axes>"
      ]
     },
     "metadata": {
      "needs_background": "light"
     },
     "output_type": "display_data"
    }
   ],
   "source": [
    "_=plt.hist(betas[:,0])"
   ]
  },
  {
   "cell_type": "code",
   "execution_count": null,
   "metadata": {
    "colab": {
     "base_uri": "https://localhost:8080/",
     "height": 265
    },
    "id": "1g5K24BG9OY_",
    "outputId": "cf235e76-c18d-412a-8bfc-8d33c5547ef6"
   },
   "outputs": [
    {
     "data": {
      "image/png": "[encoded data removed]",
      "text/plain": [
       "<Figure size 432x288 with 1 Axes>"
      ]
     },
     "metadata": {
      "needs_background": "light"
     },
     "output_type": "display_data"
    }
   ],
   "source": [
    "_=plt.hist(betas[:,1])"
   ]
  },
  {
   "cell_type": "code",
   "execution_count": null,
   "metadata": {
    "colab": {
     "base_uri": "https://localhost:8080/",
     "height": 265
    },
    "id": "BQ4slqdn9axh",
    "outputId": "b5a54ae4-6ecf-45c4-8235-505790d00348"
   },
   "outputs": [
    {
     "data": {
      "image/png": "[encoded data removed]",
      "text/plain": [
       "<Figure size 432x288 with 1 Axes>"
      ]
     },
     "metadata": {
      "needs_background": "light"
     },
     "output_type": "display_data"
    }
   ],
   "source": [
    "_=plt.hist(betas[:,2])"
   ]
  },
  {
   "cell_type": "code",
   "execution_count": null,
   "metadata": {
    "colab": {
     "base_uri": "https://localhost:8080/",
     "height": 265
    },
    "id": "jSEnR2fY9rLg",
    "outputId": "7a633376-e3d2-49fe-f77c-9e1e6ac94628"
   },
   "outputs": [
    {
     "data": {
      "image/png": "[encoded data removed]",
      "text/plain": [
       "<Figure size 432x288 with 1 Axes>"
      ]
     },
     "metadata": {
      "needs_background": "light"
     },
     "output_type": "display_data"
    }
   ],
   "source": [
    "_=plt.hist(betas[:,4])"
   ]
  },
  {
   "cell_type": "code",
   "execution_count": null,
   "metadata": {
    "colab": {
     "base_uri": "https://localhost:8080/"
    },
    "id": "2Q6UW2Iz9sr7",
    "outputId": "546e9f80-cfa6-4768-cecf-a3e364c61a4c"
   },
   "outputs": [
    {
     "name": "stdout",
     "output_type": "stream",
     "text": [
      "beta 0: 1.36+/-0.46\n",
      "beta 1: 0.14+/-0.04\n",
      "beta 2: 0.15+/-0.04\n",
      "beta 3: 0.15+/-0.04\n",
      "beta 4: 0.23+/-0.04\n"
     ]
    }
   ],
   "source": [
    "for i in range(5):\n",
    "  print(\"beta {}: {:.2f}+/-{:.2f}\".format (i,np.mean(betas[:,i]),np.std(betas[:,i])))"
   ]
  },
  {
   "cell_type": "code",
   "execution_count": null,
   "metadata": {
    "id": "lsyeUzIw-kcX"
   },
   "outputs": [],
   "source": []
  }
 ],
 "metadata": {
  "colab": {
   "name": "DS_3.ipynb",
   "provenance": []
  },
  "kernelspec": {
   "display_name": "Python 3 (ipykernel)",
   "language": "python",
   "name": "python3"
  },
  "language_info": {
   "codemirror_mode": {
    "name": "ipython",
    "version": 3
   },
   "file_extension": ".py",
   "mimetype": "text/x-python",
   "name": "python",
   "nbconvert_exporter": "python",
   "pygments_lexer": "ipython3",
   "version": "3.8.10"
  }
 },
 "nbformat": 4,
 "nbformat_minor": 1
}
